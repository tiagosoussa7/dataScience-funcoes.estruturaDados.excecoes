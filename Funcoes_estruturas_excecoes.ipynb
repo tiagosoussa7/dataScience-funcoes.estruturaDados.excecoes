{
  "nbformat": 4,
  "nbformat_minor": 0,
  "metadata": {
    "colab": {
      "provenance": [],
      "authorship_tag": "ABX9TyMD91OKd07CmZNe14P9ogbi",
      "include_colab_link": true
    },
    "kernelspec": {
      "name": "python3",
      "display_name": "Python 3"
    },
    "language_info": {
      "name": "python"
    }
  },
  "cells": [
    {
      "cell_type": "markdown",
      "metadata": {
        "id": "view-in-github",
        "colab_type": "text"
      },
      "source": [
        "<a href=\"https://colab.research.google.com/github/tiagosoussa7/dataScience-funcoes.estruturaDados.excecoes/blob/main/Funcoes_estruturas_excecoes.ipynb\" target=\"_parent\"><img src=\"https://colab.research.google.com/assets/colab-badge.svg\" alt=\"Open In Colab\"/></a>"
      ]
    },
    {
      "cell_type": "markdown",
      "source": [
        "# Bibliotecas"
      ],
      "metadata": {
        "id": "6WKGFrWNbq-v"
      }
    },
    {
      "cell_type": "markdown",
      "source": [
        "1. Escreva um código para instalar a versão 3.7.1 da biblioteca matplotlib."
      ],
      "metadata": {
        "id": "cv41wjbSbxF2"
      }
    },
    {
      "cell_type": "code",
      "execution_count": null,
      "metadata": {
        "id": "-d3_T5ISBNIZ",
        "colab": {
          "base_uri": "https://localhost:8080/"
        },
        "outputId": "a2ba43cc-8128-4c86-d60e-c3e677c5a611"
      },
      "outputs": [
        {
          "output_type": "stream",
          "name": "stdout",
          "text": [
            "Requirement already satisfied: matplotlib==3.7.1 in /usr/local/lib/python3.11/dist-packages (3.7.1)\n",
            "Requirement already satisfied: contourpy>=1.0.1 in /usr/local/lib/python3.11/dist-packages (from matplotlib==3.7.1) (1.3.3)\n",
            "Requirement already satisfied: cycler>=0.10 in /usr/local/lib/python3.11/dist-packages (from matplotlib==3.7.1) (0.12.1)\n",
            "Requirement already satisfied: fonttools>=4.22.0 in /usr/local/lib/python3.11/dist-packages (from matplotlib==3.7.1) (4.59.0)\n",
            "Requirement already satisfied: kiwisolver>=1.0.1 in /usr/local/lib/python3.11/dist-packages (from matplotlib==3.7.1) (1.4.9)\n",
            "Requirement already satisfied: numpy>=1.20 in /usr/local/lib/python3.11/dist-packages (from matplotlib==3.7.1) (2.0.2)\n",
            "Requirement already satisfied: packaging>=20.0 in /usr/local/lib/python3.11/dist-packages (from matplotlib==3.7.1) (25.0)\n",
            "Requirement already satisfied: pillow>=6.2.0 in /usr/local/lib/python3.11/dist-packages (from matplotlib==3.7.1) (11.3.0)\n",
            "Requirement already satisfied: pyparsing>=2.3.1 in /usr/local/lib/python3.11/dist-packages (from matplotlib==3.7.1) (3.2.3)\n",
            "Requirement already satisfied: python-dateutil>=2.7 in /usr/local/lib/python3.11/dist-packages (from matplotlib==3.7.1) (2.9.0.post0)\n",
            "Requirement already satisfied: six>=1.5 in /usr/local/lib/python3.11/dist-packages (from python-dateutil>=2.7->matplotlib==3.7.1) (1.17.0)\n"
          ]
        }
      ],
      "source": [
        "!pip install matplotlib==3.7.1"
      ]
    },
    {
      "cell_type": "markdown",
      "source": [
        "2. Escreva um código para importar a biblioteca numpy com o alias np."
      ],
      "metadata": {
        "id": "LRnLtV6Cb5Tm"
      }
    },
    {
      "cell_type": "code",
      "source": [
        "import numpy as np"
      ],
      "metadata": {
        "id": "RBV5Z-cjb8ve"
      },
      "execution_count": null,
      "outputs": []
    },
    {
      "cell_type": "markdown",
      "source": [
        "3. Crie um programa que leia a seguinte lista de números e escolha um número desta aleatoriamente.\n",
        "\n",
        "```\n",
        "lista = [8, 12, 54, 23, 43, 1, 90, 87, 105, 77]\n",
        "```\n",
        "\n"
      ],
      "metadata": {
        "id": "PfUMP7Dab9Hm"
      }
    },
    {
      "cell_type": "code",
      "source": [
        "from random import choice\n",
        "lista = [8, 12, 54, 23, 43, 1, 90, 87, 105, 77]\n",
        "\n",
        "choice(lista)"
      ],
      "metadata": {
        "id": "jTUARg8NcBZm",
        "colab": {
          "base_uri": "https://localhost:8080/"
        },
        "outputId": "9251d66a-b957-44ae-c2f3-8eecd840892d"
      },
      "execution_count": null,
      "outputs": [
        {
          "output_type": "execute_result",
          "data": {
            "text/plain": [
              "77"
            ]
          },
          "metadata": {},
          "execution_count": 19
        }
      ]
    },
    {
      "cell_type": "markdown",
      "source": [
        "4. Crie um programa que sorteia, aleatoriamente, um número inteiro positivo menor que 100."
      ],
      "metadata": {
        "id": "RmGlsoJ2cHVe"
      }
    },
    {
      "cell_type": "code",
      "source": [
        "if choice(range(100)) < 100:\n",
        "  print(choice(range(100)))"
      ],
      "metadata": {
        "id": "bYRSkn2NcKL2",
        "colab": {
          "base_uri": "https://localhost:8080/"
        },
        "outputId": "109fa747-a014-4cc5-8db6-e4855e125b77"
      },
      "execution_count": null,
      "outputs": [
        {
          "output_type": "stream",
          "name": "stdout",
          "text": [
            "88\n"
          ]
        }
      ]
    },
    {
      "cell_type": "markdown",
      "source": [
        "5. Crie um programa que solicite à pessoa usuária digitar dois números inteiros e calcular a potência do 1º número elevado ao 2º."
      ],
      "metadata": {
        "id": "ExwfKUpZcKim"
      }
    },
    {
      "cell_type": "code",
      "source": [
        "from math import pow\n",
        "\n",
        "base = int(input('Digite um número para a base inteiro: '))\n",
        "expoente = int(input('Digite outro número para o expoente inteiro: '))\n",
        "\n",
        "print(f'A base {base} elevada ao expoente {expoente} é igual a {pow(base, expoente)}')"
      ],
      "metadata": {
        "id": "ZMCrw5pIcOKG",
        "colab": {
          "base_uri": "https://localhost:8080/"
        },
        "outputId": "510715d1-b20b-4d3e-a76d-3bab18749380"
      },
      "execution_count": null,
      "outputs": [
        {
          "output_type": "stream",
          "name": "stdout",
          "text": [
            "Digite um número para a base inteiro: 4\n",
            "Digite outro número para o expoente inteiro: 4\n",
            "A base 4 elevada ao expoente 4 é igual a 256.0\n"
          ]
        }
      ]
    },
    {
      "cell_type": "markdown",
      "source": [
        "### Aplicando em projetos"
      ],
      "metadata": {
        "id": "GCVozVlacTiG"
      }
    },
    {
      "cell_type": "markdown",
      "source": [
        "6. Um programa deve ser escrito para sortear uma pessoa seguidora de uma rede social para ganhar um prêmio. A lista de participantes é numerada e devemos escolher aleatoriamente um número de acordo com a quantidade de participantes. Peça à pessoa usuária para fornecer o número de participantes do sorteio e devolva para ela o número sorteado."
      ],
      "metadata": {
        "id": "5J4FkhtkcYA-"
      }
    },
    {
      "cell_type": "code",
      "source": [
        "from random import randint\n",
        "\n",
        "numero_participantes = int(input('Digite o número de participantes: '))\n",
        "print(f'O número sorteado foi {randint(1, numero_participantes)}')"
      ],
      "metadata": {
        "id": "rPGVWLORcau-",
        "colab": {
          "base_uri": "https://localhost:8080/"
        },
        "outputId": "fba8972b-02df-443a-ca0d-d7e0c31430a3"
      },
      "execution_count": null,
      "outputs": [
        {
          "output_type": "stream",
          "name": "stdout",
          "text": [
            "Digite o número de participantes: 5\n",
            "O número sorteado foi 2\n"
          ]
        }
      ]
    },
    {
      "cell_type": "markdown",
      "source": [
        "7. Você recebeu uma demanda para gerar números de token para acessar o aplicativo de uma empresa. O token precisa ser par e variar de 1000 até 9998. Escreva um código que solicita à pessoa usuária o seu nome e exibe uma mensagem junto a esse token gerado aleatoriamente."
      ],
      "metadata": {
        "id": "1j6iSwAUcdwO"
      }
    },
    {
      "cell_type": "code",
      "source": [
        "nome = input('Digite seu nome: ')\n",
        "print(f'Olá {nome}, seu token é {randint(1000, 9998)}')"
      ],
      "metadata": {
        "id": "zKGFizwYciXG",
        "colab": {
          "base_uri": "https://localhost:8080/"
        },
        "outputId": "80b296c1-6798-44e6-9097-dd63fa20191d"
      },
      "execution_count": null,
      "outputs": [
        {
          "output_type": "stream",
          "name": "stdout",
          "text": [
            "Digite seu nome: maria de fátima \n",
            "Olá maria de fátima , seu token é 5387\n"
          ]
        }
      ]
    },
    {
      "cell_type": "markdown",
      "source": [
        "8. Para diversificar e atrair novos(as) clientes, uma lanchonete criou um item misterioso em seu cardápio chamado \"salada de frutas surpresa\". Neste item, são escolhidas aleatoriamente 3 frutas de uma lista de 12 para compor a salada de frutas da pessoa cliente. Crie o código que faça essa seleção aleatória de acordo com a lista abaixo:\n",
        "\n",
        "```\n",
        "frutas = [\"maçã\", \"banana\", \"uva\", \"pêra\",\n",
        "          \"manga\", \"coco\", \"melancia\", \"mamão\",\n",
        "          \"laranja\", \"abacaxi\", \"kiwi\", \"ameixa\"]\n",
        "```\n",
        "\n"
      ],
      "metadata": {
        "id": "t4qdDATZe76Y"
      }
    },
    {
      "cell_type": "code",
      "source": [
        "from random import choices\n",
        "\n",
        "frutas = [\"maçã\", \"banana\", \"uva\", \"pêra\",\n",
        "          \"manga\", \"coco\", \"melancia\", \"mamão\",\n",
        "          \"laranja\", \"abacaxi\", \"kiwi\", \"ameixa\"]\n",
        "\n",
        "frutas_escolhidas = choices(frutas, k=3)\n",
        "\n",
        "print(f'A salada de frutas surpresa é: {frutas_escolhidas[0]}, {frutas_escolhidas[1]}, {frutas_escolhidas[2]}')"
      ],
      "metadata": {
        "id": "0dTQCJwJfACH",
        "colab": {
          "base_uri": "https://localhost:8080/"
        },
        "outputId": "4e6314a9-5dda-4c8b-8709-2dd8e342eb2e"
      },
      "execution_count": null,
      "outputs": [
        {
          "output_type": "stream",
          "name": "stdout",
          "text": [
            "A salada de frutas surpresa é: kiwi, kiwi, laranja\n"
          ]
        }
      ]
    },
    {
      "cell_type": "markdown",
      "source": [
        "9. Você recebeu um desafio de calcular a raiz quadrada de uma lista de números, identificando quais resultaram em um número inteiro. A lista é a seguinte:\n",
        "\n",
        "```\n",
        "numeros = [2, 8, 15, 23, 91, 112, 256]\n",
        "```\n",
        "No final, informe quais números possuem raízes inteiras e seus respectivos valores.\n",
        "\n"
      ],
      "metadata": {
        "id": "-eLGdbP8fAnY"
      }
    },
    {
      "cell_type": "code",
      "source": [
        "from math import sqrt\n",
        "\n",
        "numeros = [2, 8, 15, 23, 91, 112, 256]\n",
        "\n",
        "for numero in numeros:\n",
        "  raiz = sqrt(numero)\n",
        "  if raiz % 1 == 0:\n",
        "    print(f'A raiz de {numero} é {int(raiz)}')\n"
      ],
      "metadata": {
        "id": "gHZAFixufUVo",
        "colab": {
          "base_uri": "https://localhost:8080/"
        },
        "outputId": "20ce12d7-c764-4535-965a-29c0631ffa23"
      },
      "execution_count": null,
      "outputs": [
        {
          "output_type": "stream",
          "name": "stdout",
          "text": [
            "A raiz de 256 é 16\n"
          ]
        }
      ]
    },
    {
      "cell_type": "markdown",
      "source": [
        "10. Faça um programa para uma loja que vende grama para jardins. Essa loja trabalha com jardins circulares e o preço do metro quadrado da grama é de R$ 25,00. Peça à pessoa usuária o raio da área circular e devolva o valor em reais do quanto precisará pagar."
      ],
      "metadata": {
        "id": "POeAVuYofUxo"
      }
    },
    {
      "cell_type": "code",
      "source": [
        "from math import pi\n",
        "raio = float(input('Digite o raio da área circular: '))\n",
        "\n",
        "area = pi*pow(raio, 2)\n",
        "preco = area*25\n",
        "\n",
        "print(f'O valor a ser pago é de R$ {preco:.2f}')\n",
        "\n"
      ],
      "metadata": {
        "id": "ESEmIM-rfiXh",
        "colab": {
          "base_uri": "https://localhost:8080/"
        },
        "outputId": "974af16e-e2db-4b5d-d4cc-fb9cbdf06f9a"
      },
      "execution_count": null,
      "outputs": [
        {
          "output_type": "stream",
          "name": "stdout",
          "text": [
            "Digite o raio da área circular: 2\n",
            "O valor a ser pago é de R$ 314.16\n"
          ]
        }
      ]
    },
    {
      "cell_type": "markdown",
      "source": [
        "# Funções"
      ],
      "metadata": {
        "id": "jwhpcrolKiX4"
      }
    },
    {
      "cell_type": "markdown",
      "source": [
        "1. Escreva um código que lê a lista abaixo e faça:\n",
        "\n",
        "```\n",
        "lista = [16, 14, 63, 65, 17, 99, 70, 11, 20, 48, 79, 32, 17, 89, 12, 25, 66]\n",
        "```\n",
        "* A leitura do tamanho da lista\n",
        "* A leitura do maior e menor valor\n",
        "* A soma dos valores da lista\n",
        "\n",
        "Ao final exiba uma mensagem dizendo:\n",
        "\n",
        "\n",
        "```\n",
        "\"A lista possui [tam] números em que o maior número é [maior] e o menor número é [menor]. A soma dos valores presentes nela é igual a [soma]\"\n",
        "```\n",
        "\n"
      ],
      "metadata": {
        "id": "A2oehGT3Kmc_"
      }
    },
    {
      "cell_type": "code",
      "source": [
        "lista = [16, 14, 63, 65, 17, 99, 70, 11, 20, 48, 79, 32, 17, 89, 12, 25, 66]\n",
        "print(f'A lista possui {len(lista)} números em que o maior número é {max(lista)} e o menor número é {min(lista)}. A soma dos valores presentes nela é igual a {sum(lista)}')"
      ],
      "metadata": {
        "colab": {
          "base_uri": "https://localhost:8080/"
        },
        "id": "MCtnAudnLD84",
        "outputId": "cb10f0f2-3547-458f-cd69-412215ba4b3b"
      },
      "execution_count": null,
      "outputs": [
        {
          "output_type": "stream",
          "name": "stdout",
          "text": [
            "A lista possui 17 números em que o maior número é 99 e o menor número é 11. A soma dos valores presentes nela é igual a 743\n"
          ]
        }
      ]
    },
    {
      "cell_type": "markdown",
      "source": [
        "2. Escreva uma função que gere a tabuada de um número inteiro de 1 a 10, de acordo com a escolha da pessoa usuária. Como exemplo, para o número 7, a tabuada deve ser mostrada no seguinte formato:\n",
        "\n",
        "```\n",
        "Tabuada do 7:\n",
        "7 x 0 = 0\n",
        "7 x 1 = 7\n",
        "[...]\n",
        "7 x 10 = 70\n",
        "```\n",
        "\n"
      ],
      "metadata": {
        "id": "WPwDhDzxLGJH"
      }
    },
    {
      "cell_type": "code",
      "source": [
        "tabuada = int(input('Digite um número para gerar a tabuada: '))\n",
        "print(f'Tabuada do {tabuada}:')\n",
        "for i in range(11):\n",
        "  print(f'{tabuada} x {i} = {tabuada*i}')"
      ],
      "metadata": {
        "colab": {
          "base_uri": "https://localhost:8080/"
        },
        "id": "6M2PICNqLTDY",
        "outputId": "e231340d-ee01-4fde-c525-aa9565f5411e"
      },
      "execution_count": null,
      "outputs": [
        {
          "output_type": "stream",
          "name": "stdout",
          "text": [
            "Digite um número para gerar a tabuada: 7\n",
            "Tabuada do 7:\n",
            "7 x 0 = 0\n",
            "7 x 1 = 7\n",
            "7 x 2 = 14\n",
            "7 x 3 = 21\n",
            "7 x 4 = 28\n",
            "7 x 5 = 35\n",
            "7 x 6 = 42\n",
            "7 x 7 = 49\n",
            "7 x 8 = 56\n",
            "7 x 9 = 63\n",
            "7 x 10 = 70\n"
          ]
        }
      ]
    },
    {
      "cell_type": "markdown",
      "source": [
        "3. Crie a função que leia a lista abaixo e retorne uma nova lista com os múltiplos de 3:\n",
        "\n",
        "```\n",
        "[97, 80, 94, 88, 80, 1, 16, 53, 62, 32, 24, 99]\n",
        "```\n",
        "Utilize o return na função e salve a nova lista na variável mult_3.\n"
      ],
      "metadata": {
        "id": "k9DZxTJ8LUjw"
      }
    },
    {
      "cell_type": "code",
      "source": [
        "function = lambda x: x % 3 == 0\n",
        "lista = [97, 80, 94, 88, 80, 1, 16, 53, 62, 32, 24, 99]\n",
        "mult_3 = list(filter(function, lista))\n",
        "print(mult_3)"
      ],
      "metadata": {
        "colab": {
          "base_uri": "https://localhost:8080/"
        },
        "id": "LrGz2i-rLamo",
        "outputId": "66df02af-e776-4dd1-8d54-dcf36c805c36"
      },
      "execution_count": null,
      "outputs": [
        {
          "output_type": "stream",
          "name": "stdout",
          "text": [
            "[24, 99]\n"
          ]
        }
      ]
    },
    {
      "cell_type": "markdown",
      "source": [
        "4. Crie uma lista dos quadrados dos números da seguinte lista [1, 2, 3, 4, 5, 6, 7, 8, 9, 10]. Lembre-se de utilizar as funções lambda e map() para calcular o quadrado de cada elemento da lista."
      ],
      "metadata": {
        "id": "KfFDN6ufLbZH"
      }
    },
    {
      "cell_type": "code",
      "source": [
        "lista = [1, 2, 3, 4, 5, 6, 7, 8, 9, 10]\n",
        "quadrados = list(map(lambda x: x**2, lista))\n",
        "print(quadrados)"
      ],
      "metadata": {
        "colab": {
          "base_uri": "https://localhost:8080/"
        },
        "id": "GykPXT2gL4Eg",
        "outputId": "b27a7456-096c-4496-e562-2a49679c1d15"
      },
      "execution_count": null,
      "outputs": [
        {
          "output_type": "stream",
          "name": "stdout",
          "text": [
            "[1, 4, 9, 16, 25, 36, 49, 64, 81, 100]\n"
          ]
        }
      ]
    },
    {
      "cell_type": "markdown",
      "source": [
        "5. Você foi contratado(a) como cientista de dados de uma associação de skate. Para analisar as notas recebidas de skatistas em algumas competições ao longo do ano, você precisa criar um código que calcula a pontuação dos(as) atletas. Para isso, o seu código deve receber 5 notas digitadas pelas pessoas juradas.\n",
        "\n",
        "Para calcular a pontuação de um(a) skatista, você precisa eliminar a maior e a menor pontuação dentre as 5 notas e tirar a média das 3 notas que sobraram. Retorne a média para apresentar o texto:\n",
        "\n",
        "\"Nota da manobra: [media]\""
      ],
      "metadata": {
        "id": "e2ihKqc6MA3g"
      }
    },
    {
      "cell_type": "code",
      "source": [
        "notas = []\n",
        "for i in range(5):\n",
        "  notas.append(float(input(f'Digite a {i+1}ª nota: ')))\n",
        "\n",
        "def media(notas):\n",
        "  notas.remove(max(notas))\n",
        "  notas.remove(min(notas))\n",
        "  return sum(notas)/len(notas)\n",
        "\n",
        "print(f'Nota da manobra: {media(notas)}')\n",
        "\n"
      ],
      "metadata": {
        "id": "qulD_1ygMDGQ",
        "colab": {
          "base_uri": "https://localhost:8080/"
        },
        "outputId": "2f93dbc2-ed7d-4aab-ef5c-090343776d3d"
      },
      "execution_count": null,
      "outputs": [
        {
          "output_type": "stream",
          "name": "stdout",
          "text": [
            "Digite a 1ª nota: 6\n",
            "Digite a 2ª nota: 4\n",
            "Digite a 3ª nota: 4\n",
            "Digite a 4ª nota: 4\n",
            "Digite a 5ª nota: 3\n",
            "Nota da manobra: 4.0\n"
          ]
        }
      ]
    },
    {
      "cell_type": "markdown",
      "source": [
        "6. Para atender a uma demanda de uma instituição de ensino para a análise do desempenho de seus(suas) estudantes, você precisa criar uma função que receba uma lista de 4 notas e retorne:\n",
        "\n",
        "* maior nota\n",
        "* menor nota\n",
        "* média\n",
        "* situação (Aprovado(a) ou Reprovado(a))\n",
        "\n",
        "Para testar o comportamento da função, os dados podem ser exibidos em um texto:\n",
        "\n",
        "```\n",
        "\"O(a) estudante obteve uma média de [media], com a sua maior nota de [maior] pontos e a menor nota de [menor] pontos e foi [situacao]\"\n",
        "```\n",
        "\n"
      ],
      "metadata": {
        "id": "XrjeU0MvMJX4"
      }
    },
    {
      "cell_type": "code",
      "source": [
        "notas = []\n",
        "\n",
        "for i in range(4):\n",
        "  notas.append(float(input(f'Digite a {i+1}ª nota: ')))\n",
        "\n",
        "def situacao(notas):\n",
        "  media = sum(notas)/len(notas)\n",
        "  maior = max(notas)\n",
        "  menor = min(notas)\n",
        "\n",
        "  return print(f'O(A) estudante obteve uma média de {media}, com a sua maior nota de {maior} pontos e a menor nota {menor} pontos e foi aprovado(a)'\n",
        "               if media >= 6\n",
        "               else f'O(A) estudante obteve uma média de {media}, com a sua maior nota de {maior} pontos e a menor nota {menor} pontos e foi reprovado(a)')\n",
        "\n",
        "situacao(notas)"
      ],
      "metadata": {
        "id": "hsl2zXlOMMnY",
        "colab": {
          "base_uri": "https://localhost:8080/"
        },
        "outputId": "ad285118-bdde-4508-a2c3-23bef41d1cca"
      },
      "execution_count": null,
      "outputs": [
        {
          "output_type": "stream",
          "name": "stdout",
          "text": [
            "Digite a 1ª nota: 6\n",
            "Digite a 2ª nota: 7\n",
            "Digite a 3ª nota: 9\n",
            "Digite a 4ª nota: 3\n",
            "O(A) estudante obteve uma média de 6.25, com a sua maior nota de 9.0 pontos e a menor nota 3.0 pontos e foi aprovado(a)\n"
          ]
        }
      ]
    },
    {
      "cell_type": "markdown",
      "source": [
        "7. Você recebeu uma demanda para tratar 2 listas com os nomes e sobrenomes de cada estudante concatenando-as para apresentar seus nomes completos na forma Nome Sobrenome. As listas são:\n",
        "\n",
        "```\n",
        "nomes = [\"joão\", \"MaRia\", \"JOSÉ\"]\n",
        "sobrenomes = [\"SILVA\", \"souza\", \"Tavares\"]\n",
        "```\n",
        "\n",
        "O texto exibido ao fim deve ser parecido com:\n",
        "\n",
        "\n",
        "\n",
        "```\n",
        "\"Nome completo: Ana Silva\"\n",
        "```\n",
        "\n"
      ],
      "metadata": {
        "id": "DAKnpwAbMaVw"
      }
    },
    {
      "cell_type": "code",
      "source": [
        "nomes = [\"joão\", \"MaRia\", \"JOSÉ\"]\n",
        "sobrenomes = [\"SILVA\", \"souza\", \"Tavares\"]\n",
        "\n",
        "def nome_completo(nomes, sobrenomes):\n",
        "  for nome, sobrenome in zip(nomes, sobrenomes):\n",
        "    print(f'Nome completo: {nome.capitalize()} {sobrenome.capitalize()}')\n",
        "\n",
        "nome_completo(nomes, sobrenomes)"
      ],
      "metadata": {
        "id": "0p_xVpwrMj-p",
        "colab": {
          "base_uri": "https://localhost:8080/"
        },
        "outputId": "827196cd-2ca8-4c29-c1b7-df2fc9a43f6e"
      },
      "execution_count": null,
      "outputs": [
        {
          "output_type": "stream",
          "name": "stdout",
          "text": [
            "Nome completo: João Silva\n",
            "Nome completo: Maria Souza\n",
            "Nome completo: José Tavares\n"
          ]
        }
      ]
    },
    {
      "cell_type": "markdown",
      "source": [
        "8. Como cientista de dados em um time de futebol, você precisa implementar novas formas de coleta de dados sobre o desempenho de jogadores e do time como um todo. Sua primeira ação é criar uma forma de calcular a pontuação do time no campeonato nacional a partir dos dados de gols marcados e sofridos em cada jogo.\n",
        "\n",
        "Escreva uma função chamada calcula_pontos que recebe como parâmetros duas listas de números inteiros, representando os gols marcados e sofridos pelo time em cada partida do campeonato. A função deve retornar a pontuação do time e o aproveitamento em percentual, levando em consideração que a vitória vale 3 pontos, o empate vale 1 ponto e a derrota 0 pontos.\n",
        "\n",
        "Para teste, utilize as seguintes listas de gols marcados e sofridos:\n",
        "\n",
        "\n",
        "\n",
        "```\n",
        "gols_marcados = [2, 1, 3, 1, 0]\n",
        "gols_sofridos = [1, 2, 2, 1, 3]\n",
        "```\n",
        "\n",
        "Provável texto exibido:\n",
        "\n",
        "```\n",
        "\"A pontuação do time foi de [pontos] e seu aproveitamento foi de [aprov]%\"\n",
        "```\n",
        "\n"
      ],
      "metadata": {
        "id": "MU5uxDeFMlO4"
      }
    },
    {
      "cell_type": "code",
      "source": [
        "gols_marcados = []\n",
        "gols_sofridos = []\n",
        "\n",
        "def calcula_pontos(gols_marcados, gols_sofridos):\n",
        "  for i  in range(5):\n",
        "    gols_marcados.append(int(input(f'Digite a quantidade de gols marcados na {i+1}ª partida: ')))\n",
        "    gols_sofridos.append(int(input(f'Digite a quantidade de gols sofridos na {i+1}ª partida: ')))\n",
        "\n",
        "  pontos = 0\n",
        "  for gol_pro, gol_contra in zip(gols_marcados, gols_sofridos):\n",
        "    if gol_pro > gol_contra:\n",
        "      pontos += 3\n",
        "    elif gol_pro == gol_contra:\n",
        "      pontos += 1\n",
        "    else:\n",
        "      pontos += 0\n",
        "\n",
        "  aprov = 100 * pontos / (len(gols_marcados) * 3)\n",
        "\n",
        "  return print(f'A pontuação do time foi de {pontos} e seu aproveitamento foi de {aprov}%')\n",
        "\n",
        "calcula_pontos(gols_marcados, gols_sofridos)"
      ],
      "metadata": {
        "id": "VtWqsZjnNHAo",
        "colab": {
          "base_uri": "https://localhost:8080/"
        },
        "outputId": "264bfb3c-9f83-4ed7-fdaf-5c72f7ffeb8f"
      },
      "execution_count": null,
      "outputs": [
        {
          "output_type": "stream",
          "name": "stdout",
          "text": [
            "Digite a quantidade de gols marcados na 1ª partida: 5\n",
            "Digite a quantidade de gols sofridos na 1ª partida: 4\n",
            "Digite a quantidade de gols marcados na 2ª partida: 3\n",
            "Digite a quantidade de gols sofridos na 2ª partida: 2\n",
            "Digite a quantidade de gols marcados na 3ª partida: 1\n",
            "Digite a quantidade de gols sofridos na 3ª partida: 6\n",
            "Digite a quantidade de gols marcados na 4ª partida: 4\n",
            "Digite a quantidade de gols sofridos na 4ª partida: 4\n",
            "Digite a quantidade de gols marcados na 5ª partida: 3\n",
            "Digite a quantidade de gols sofridos na 5ª partida: 2\n",
            "A pontuação do time foi de 10 e seu aproveitamento foi de 66.66666666666667%\n"
          ]
        }
      ]
    },
    {
      "cell_type": "markdown",
      "source": [
        "9. Você recebeu o desafio de criar um código que calcula os gastos de uma viagem para um das quatro cidades partindo de Recife, sendo elas: Salvador, Fortaleza, Natal e Aracaju.\n",
        "\n",
        "O custo da diária do hotel é de 150 reais em todas elas e o consumo de gasolina na viagem de carro é de 14 km/l, sendo que o valor da gasolina é de 5 reais o litro. O gastos com passeios e alimentação a se fazer em cada uma delas por dia seria de [200, 400, 250, 300], respectivamente.\n",
        "\n",
        "Sabendo que as distâncias entre Recife e cada uma das cidades é de aproximadamente [850, 800, 300, 550] km, crie três funções nas quais: a 1ª função calcule os gastos com hotel (gasto_hotel), a 2ª calcule os gastos com a gasolina (gasto_gasolina) e a 3ª os gastos com passeio e alimentação (gasto_passeio).\n",
        "\n",
        "Para testar, simule uma viagem de 3 dias para Salvador partindo de Recife. Considere a viagem de ida e volta de carro.\n",
        "\n",
        "```\n",
        "\"Com base nos gastos definidos, uma viagem de [dias] dias para [cidade] saindo de Recife custaria [gastos] reais\"\n",
        "```\n",
        "\n"
      ],
      "metadata": {
        "id": "W1GRiTquNKvh"
      }
    },
    {
      "cell_type": "code",
      "source": [
        "cidade_origem = input('Digite a cidade de origem: ')\n",
        "cidade_destino = input('Digite a cidade de destino: ')\n",
        "distancia = float(input('Digite a distância em Km entre as cidades: '))\n",
        "quantidade_dias = int(input('Digite a quantidade de dias da viagem: '))\n",
        "diaria_hotel = (float(input(f'Digite o valor da diária do hotel na cidade de {cidade_destino}: ')))\n",
        "km_carro = float(input(f'Digite a quilometragem por litro que o seu carro faz: '))\n",
        "valor_gasolina = float(input(f'Digite o valor da gasolina: '))\n",
        "valor_alimentacaoPasseio = float(input(f'Digite o valor diario que será utilizado com alimentação e passeios na cidade de {cidade_destino}: '))\n",
        "\n",
        "def calculo_gastos(cidade_origem, cidade_destino, quantidade_dias, km_carro, valor_gasolina, valor_alimentacaoPasseio):\n",
        "\n",
        "  gasto_hotel = diaria_hotel * quantidade_dias\n",
        "  gasto_gasolina = (distancia / km_carro) * valor_gasolina\n",
        "  gasto_passeio = valor_alimentacaoPasseio * quantidade_dias\n",
        "\n",
        "  return print(f'Com base nos gastos definidos, uma viagem de {quantidade_dias} dias para {cidade_destino.capitalize()} saindo de {cidade_origem.capitalize()} terá um gasto com hotel de: {round(gasto_hotel, 2)}, com gasolina: {round(gasto_gasolina, 2)} e com alimentação e passeio de: {round(gasto_passeio, 2)} totalizando um gasto de: {round(gasto_hotel + gasto_gasolina + gasto_passeio, 2)} reais')\n",
        "\n",
        "calculo_gastos(cidade_origem, cidade_destino, quantidade_dias, km_carro, valor_gasolina, valor_alimentacaoPasseio)"
      ],
      "metadata": {
        "id": "EmSxwT_rNT_Y",
        "colab": {
          "base_uri": "https://localhost:8080/"
        },
        "outputId": "2e03885c-3fb5-4554-ae38-4d14c8a2d340"
      },
      "execution_count": null,
      "outputs": [
        {
          "output_type": "stream",
          "name": "stdout",
          "text": [
            "Digite a cidade de origem: santa catarina\n",
            "Digite a cidade de destino: amapa\n",
            "Digite a distância em Km entre as cidades: 3765\n",
            "Digite a quantidade de dias da viagem: 7\n",
            "Digite o valor da diária do hotel na cidade de amapa: 150\n",
            "Digite a quilometragem por litro que o seu carro faz: 15\n",
            "Digite o valor da gasolina: 5.89\n",
            "Digite o valor diario que será utilizado com alimentação e passeios na cidade de amapa: 450\n",
            "Com base nos gastos definidos, uma viagem de 7 dias para Amapa saindo de Santa catarina terá um gasto com hotel de: 1050.0, com gasolina: 1478.39 e com alimentação e passeio de: 3150.0 totalizando um gasto de: 5678.39 reais\n"
          ]
        }
      ]
    },
    {
      "cell_type": "markdown",
      "source": [
        "10. Você iniciou um estágio em uma empresa que trabalha com processamento de linguagem natural (NLP). Sua líder requisitou que você criasse um trecho de código que recebe uma frase digitada pela pessoa usuária e filtre apenas as palavras com tamanho maior ou igual a 5, exibindo-as em uma lista. Essa demanda é voltada para a análise do padrão de comportamento de pessoas na escrita de palavras acima dessa quantidade de caracteres.\n",
        "\n",
        "*Dica: utilize as funções lambda e filter() para filtrar essas palavras. Lembrando que a função embutida filter() recebe uma função (no nosso exemplo uma função lambda) e filtra um iterável de acordo com a função. Para tratar a frase use replace() para trocar a ',' '.', '!' e '?' por espaço.*\n",
        "\n",
        "Use a frase **\"Aprender Python aqui na Alura é muito bom\"** para testar o código."
      ],
      "metadata": {
        "id": "L69VJsUiNUXZ"
      }
    },
    {
      "cell_type": "code",
      "source": [
        "frase = input('Digite uma frase: ')\n",
        "\n",
        "def frase_filtrada(frase):\n",
        "  frase = frase.replace(',', ' ').replace('.', ' ').replace('!', ' ').replace('?', ' ').split()\n",
        "\n",
        "  palavras_filtradas = list(filter(lambda x: len(x) >= 5, frase))\n",
        "\n",
        "  return print(palavras_filtradas)\n",
        "\n",
        "frase_filtrada(frase)\n"
      ],
      "metadata": {
        "id": "0AropQXONp-A",
        "colab": {
          "base_uri": "https://localhost:8080/"
        },
        "outputId": "cd6d529f-e650-4b28-9aa1-f2f8c494e2a5"
      },
      "execution_count": null,
      "outputs": [
        {
          "output_type": "stream",
          "name": "stdout",
          "text": [
            "Digite uma frase: aprender python na alura é muito bom\n",
            "['aprender', 'python', 'alura', 'muito']\n"
          ]
        }
      ]
    },
    {
      "cell_type": "markdown",
      "source": [
        "# Estrutura de dados"
      ],
      "metadata": {
        "id": "zu8ie2mLvdya"
      }
    },
    {
      "cell_type": "markdown",
      "source": [
        "1. Crie um código para imprimir a soma dos elementos de cada uma das listas contidas na seguinte lista:\n",
        "\n",
        "```\n",
        "lista_de_listas = [[4,6,5,9], [1,0,7,2], [3,4,1,8]]\n",
        "```\n",
        "\n"
      ],
      "metadata": {
        "id": "X4wES9eMvi8D"
      }
    },
    {
      "cell_type": "code",
      "source": [
        "lista_de_listas = [[4,6,5,9], [1,0,7,2], [3,4,1,8]]\n",
        "\n",
        "for lista in lista_de_listas:\n",
        "  lista.append(sum(lista))\n",
        "  print(sum(lista))"
      ],
      "metadata": {
        "colab": {
          "base_uri": "https://localhost:8080/"
        },
        "id": "QQoELY6PvuOq",
        "outputId": "3a2c7499-b509-4313-c503-b9c02ee8f43c"
      },
      "execution_count": null,
      "outputs": [
        {
          "output_type": "stream",
          "name": "stdout",
          "text": [
            "48\n",
            "20\n",
            "32\n"
          ]
        }
      ]
    },
    {
      "cell_type": "markdown",
      "source": [
        "2. Crie um código para gerar uma lista que armazena o terceiro elemento de cada tupla contida na seguinte lista de tuplas:\n",
        "\n",
        "```\n",
        "lista_de_tuplas = [('Pedro', 1.74, 81), ('Júlia', 1.65, 67), ('Otávio', 1.81, 83)]\n",
        "```\n",
        "\n"
      ],
      "metadata": {
        "id": "b7camtq4vunq"
      }
    },
    {
      "cell_type": "code",
      "source": [
        "lista = []\n",
        "lista_de_tuplas = [('Pedro', 1.74, 81), ('Júlia', 1.65, 67), ('Otávio', 1.81, 83)]\n",
        "\n",
        "for tupla in lista_de_tuplas:\n",
        "  lista.append(tupla[2])\n",
        "\n",
        "print(lista)"
      ],
      "metadata": {
        "colab": {
          "base_uri": "https://localhost:8080/"
        },
        "id": "gINUgB5vvzL6",
        "outputId": "4069be7d-7937-4cf3-a868-eb71b843a3da"
      },
      "execution_count": null,
      "outputs": [
        {
          "output_type": "stream",
          "name": "stdout",
          "text": [
            "[81, 67, 83]\n"
          ]
        }
      ]
    },
    {
      "cell_type": "markdown",
      "source": [
        "3. A partir da lista: lista = ['Pedro', 'Júlia', 'Otávio', 'Eduardo'], crie um código para gerar uma lista de tuplas em que cada tupla tenha o primeiro elemento como a posição do nome na lista original e o segundo elemento sendo o próprio nome."
      ],
      "metadata": {
        "id": "A3UQRUfcvzqK"
      }
    },
    {
      "cell_type": "code",
      "source": [
        "lista = ['Pedro', 'Júlia', 'Otávio', 'Eduardo']\n",
        "lista_tuplas = []\n",
        "\n",
        "for i in range(len(lista)):\n",
        "  lista_tuplas.append((i + 1, lista[i]))\n",
        "\n",
        "print(lista_tuplas)"
      ],
      "metadata": {
        "colab": {
          "base_uri": "https://localhost:8080/"
        },
        "id": "ADiFmjLLv3d6",
        "outputId": "37b2cbcf-a880-414b-d4cd-c75d0bd0a235"
      },
      "execution_count": null,
      "outputs": [
        {
          "output_type": "stream",
          "name": "stdout",
          "text": [
            "[(1, 'Pedro'), (2, 'Júlia'), (3, 'Otávio'), (4, 'Eduardo')]\n"
          ]
        }
      ]
    },
    {
      "cell_type": "markdown",
      "source": [
        "4. Crie uma lista usando o list comprehension que armazena somente o valor numérico de cada tupla caso o primeiro elemento seja 'Apartamento', a partir da seguinte lista de tuplas:\n",
        "\n",
        "```\n",
        "aluguel = [('Apartamento', 1700), ('Apartamento', 1400), ('Casa', 2150), ('Apartamento', 1900), ('Casa', 1100)]\n",
        "```\n",
        "\n"
      ],
      "metadata": {
        "id": "LmyILfawv3-K"
      }
    },
    {
      "cell_type": "code",
      "source": [
        "aluguel = [('Apartamento', 1700), ('Apartamento', 1400), ('Casa', 2150), ('Apartamento', 1900), ('Casa', 1100)]\n",
        "\n",
        "lista = [tupla[1] for tupla in aluguel if tupla[0] == 'Apartamento']\n",
        "print(lista)"
      ],
      "metadata": {
        "colab": {
          "base_uri": "https://localhost:8080/"
        },
        "id": "idYLTyMaLDAg",
        "outputId": "675da46d-46f5-4c82-e5e0-6b1eec83b635"
      },
      "execution_count": null,
      "outputs": [
        {
          "output_type": "stream",
          "name": "stdout",
          "text": [
            "[1700, 1400, 1900]\n"
          ]
        }
      ]
    },
    {
      "cell_type": "markdown",
      "source": [
        "5. Crie um dicionário usando o dict comprehension em que as chaves estão na lista meses = ['Jan', 'Fev', 'Mar', 'Abr', 'Mai', 'Jun', 'Jul', 'Ago', 'Set', 'Out', 'Nov', 'Dez'] e os valores estão em despesa = [860, 490, 1010, 780, 900, 630, 590, 770, 620, 560, 840, 360]."
      ],
      "metadata": {
        "id": "SJrSbk4cv-My"
      }
    },
    {
      "cell_type": "code",
      "source": [
        "meses = ['Jan', 'Fev', 'Mar', 'Abr', 'Mai', 'Jun', 'Jul', 'Ago', 'Set', 'Out', 'Nov', 'Dez']\n",
        "despesa = [860, 490, 1010, 780, 900, 630, 590, 770, 620, 560, 840, 360]\n",
        "\n",
        "dicionario = {meses[i]: despesa[i] for i in range(len(meses))}\n",
        "print(dicionario)"
      ],
      "metadata": {
        "colab": {
          "base_uri": "https://localhost:8080/"
        },
        "id": "sWg3RyaCwB4a",
        "outputId": "610cc0c3-0d7e-4004-abea-25f92dae19a9"
      },
      "execution_count": null,
      "outputs": [
        {
          "output_type": "stream",
          "name": "stdout",
          "text": [
            "{'Jan': 860, 'Fev': 490, 'Mar': 1010, 'Abr': 780, 'Mai': 900, 'Jun': 630, 'Jul': 590, 'Ago': 770, 'Set': 620, 'Out': 560, 'Nov': 840, 'Dez': 360}\n"
          ]
        }
      ]
    },
    {
      "cell_type": "markdown",
      "source": [
        "### Aplicando a projetos"
      ],
      "metadata": {
        "id": "XGqZhmVLwDGR"
      }
    },
    {
      "cell_type": "markdown",
      "source": [
        "6. Uma loja possui um banco de dados com a informação de venda de cada representante e de cada ano e precisa filtrar somente os dados do ano 2022 com venda maior do que 6000. A loja forneceu uma amostra contendo apenas as colunas com os anos e os valores de venda para que você ajude a realizar a filtragem dos dados a partir de um código:\n",
        "\n",
        "```\n",
        "vendas = [('2023', 4093), ('2021', 4320), ('2021', 5959), ('2022', 8883), ('2023', 9859), ('2022', 5141), ('2022', 7688), ('2022', 9544), ('2023', 4794), ('2021', 7178), ('2022', 3030), ('2021', 7471), ('2022', 4226), ('2022', 8190), ('2021', 9680), ('2022', 5616)]\n",
        "```\n",
        "Crie uma lista usando list comprehension para filtrar os valores de 2022 e que sejam maiores que 6000.\n",
        "\n"
      ],
      "metadata": {
        "id": "EmXZC6dIwIka"
      }
    },
    {
      "cell_type": "code",
      "source": [
        "vendas = [('2023', 4093), ('2021', 4320), ('2021', 5959), ('2022', 8883), ('2023', 9859), ('2022', 5141), ('2022', 7688), ('2022', 9544), ('2023', 4794), ('2021', 7178), ('2022', 3030), ('2021', 7471), ('2022', 4226), ('2022', 8190), ('2021', 9680), ('2022', 5616)]\n",
        "\n",
        "lista = [tupla[1] for tupla in vendas if tupla[0] == '2022' and tupla[1] > 6000 ]\n",
        "print(lista)"
      ],
      "metadata": {
        "colab": {
          "base_uri": "https://localhost:8080/"
        },
        "id": "4bqxB0TPwOSS",
        "outputId": "f6535ecc-6a85-4a79-c3ce-766879f6720e"
      },
      "execution_count": null,
      "outputs": [
        {
          "output_type": "stream",
          "name": "stdout",
          "text": [
            "[8883, 7688, 9544, 8190]\n"
          ]
        }
      ]
    },
    {
      "cell_type": "markdown",
      "source": [
        "7. Uma clínica analisa dados de pacientes e armazena o valor numérico da glicose em um banco de dados e gostaria de rotular os dados da seguinte maneira:\n",
        "\n",
        "* Glicose igual ou inferior a 70: 'Hipoglicemia'\n",
        "* Glicose entre 70 a 99: 'Normal'\n",
        "* Glicose entre 100 e 125: 'Alterada'\n",
        "* Glicose superior a 125: 'Diabetes'\n",
        "\n",
        "A clínica disponibilizou parte dos valores e sua tarefa é criar uma lista de tuplas usando list comprehension contendo o rótulo e o valor da glicemia em cada tupla.\n",
        "\n",
        "\n",
        "\n",
        "```\n",
        "glicemia = [129, 82, 60, 97, 101, 65, 62, 167, 87, 53, 58, 92, 66, 120, 109, 62, 86, 96, 103, 88, 155, 52, 89, 73]\n",
        "```\n",
        "\n"
      ],
      "metadata": {
        "id": "b8RS9lC8wO0a"
      }
    },
    {
      "cell_type": "code",
      "source": [
        "glicemia = [129, 82, 60, 97, 101, 65, 62, 167, 87, 53, 58, 92, 66, 120, 109, 62, 86, 96, 103, 88, 155, 52, 89, 73]\n",
        "\n",
        "rotulos = [('Hipoglicemia', glicose) if glicose <= 70 else ('Normal', glicose) if glicose < 100 else ('Alterada', glicose) if glicose < 125 else ('Diabetes', glicose) for glicose in glicemia]\n",
        "print(rotulos)\n"
      ],
      "metadata": {
        "colab": {
          "base_uri": "https://localhost:8080/"
        },
        "id": "skPX-5zDwfia",
        "outputId": "a8a82b1a-b815-4068-b368-5831fd3b878f"
      },
      "execution_count": null,
      "outputs": [
        {
          "output_type": "stream",
          "name": "stdout",
          "text": [
            "[('Diabetes', 129), ('Normal', 82), ('Hipoglicemia', 60), ('Normal', 97), ('Alterada', 101), ('Hipoglicemia', 65), ('Hipoglicemia', 62), ('Diabetes', 167), ('Normal', 87), ('Hipoglicemia', 53), ('Hipoglicemia', 58), ('Normal', 92), ('Hipoglicemia', 66), ('Alterada', 120), ('Alterada', 109), ('Hipoglicemia', 62), ('Normal', 86), ('Normal', 96), ('Alterada', 103), ('Normal', 88), ('Diabetes', 155), ('Hipoglicemia', 52), ('Normal', 89), ('Normal', 73)]\n"
          ]
        }
      ]
    },
    {
      "cell_type": "markdown",
      "source": [
        "8. Um e-commerce possui as informações de id de venda, quantidade vendida e preço do produto divididos nas seguintes listas:\n",
        "\n",
        "```\n",
        "id = [0, 1, 2, 3, 4, 5, 6, 7, 8, 9]\n",
        "quantidade = [15, 12, 1, 15, 2, 11, 2, 12, 2, 4]\n",
        "preco = [93.0, 102.0, 18.0, 41.0, 122.0, 14.0, 71.0, 48.0, 14.0, 144.0]\n",
        "```\n",
        "O e-commerce precisa estruturar esses dados em uma tabela contendo o valor total da venda, que é obtida multiplicando a quantidade pelo preço unitário. Além disso, a tabela precisa conter um cabeçalho indicando as colunas: 'id', 'quantidade', 'preco' e 'total'.\n",
        "\n",
        "Crie uma lista de tuplas em que cada tupla tenha id, quantidade, preço e valor total, na qual a primeira tupla é o cabeçalho da tabela.\n"
      ],
      "metadata": {
        "id": "9vioj1U-whiC"
      }
    },
    {
      "cell_type": "code",
      "source": [
        "id = [0, 1, 2, 3, 4, 5, 6, 7, 8, 9]\n",
        "quantidade = [15, 12, 1, 15, 2, 11, 2, 12, 2, 4]\n",
        "preco = [93.0, 102.0, 18.0, 41.0, 122.0, 14.0, 71.0, 48.0, 14.0, 144.0]\n",
        "\n",
        "tabela = [('id', 'quantidade', 'preco', 'total')]\n",
        "\n",
        "for i in range(len(id)):\n",
        "  tabela.append((id[i], quantidade[i], preco[i], quantidade[i] * preco[i]))\n",
        "\n",
        "print(tabela)\n",
        "\n"
      ],
      "metadata": {
        "colab": {
          "base_uri": "https://localhost:8080/"
        },
        "id": "kE8mBuDPwpTq",
        "outputId": "fc4651ea-4afb-4d91-af78-6b360b93431a"
      },
      "execution_count": null,
      "outputs": [
        {
          "output_type": "stream",
          "name": "stdout",
          "text": [
            "[('id', 'quantidade', 'preco', 'total'), (0, 15, 93.0, 1395.0), (1, 12, 102.0, 1224.0), (2, 1, 18.0, 18.0), (3, 15, 41.0, 615.0), (4, 2, 122.0, 244.0), (5, 11, 14.0, 154.0), (6, 2, 71.0, 142.0), (7, 12, 48.0, 576.0), (8, 2, 14.0, 28.0), (9, 4, 144.0, 576.0)]\n"
          ]
        }
      ]
    },
    {
      "cell_type": "markdown",
      "source": [
        "9. Uma empresa possui filiais espalhadas nos Estados da região Sudeste do Brasil. Em uma das tabelas de cadastro das filiais há uma coluna contendo a informação de qual é o Estado a que pertence: estados = ['SP', 'ES', 'MG', 'MG', 'SP', 'MG', 'ES', 'ES', 'ES', 'SP', 'SP', 'MG', 'ES', 'SP', 'RJ', 'MG', 'RJ', 'SP', 'MG', 'SP', 'ES', 'SP', 'MG'].\n",
        "\n",
        "A empresa sempre está abrindo novas filiais, de modo que a tabela está constantemente recebendo novos registros e o gestor gostaria de possuir a informação atualizada da quantidade de filiais em cada Estado.\n",
        "\n",
        "A partir da coluna com a informação dos Estados, crie um dicionário usando dict comprehension com a chave sendo o nome de um Estado e o valor sendo a contagem de vezes em que o Estado aparece na lista.\n",
        "\n",
        "> *Dica: Você pode fazer um passo intermediário para gerar uma lista de listas em que cada uma das listas possui o nome de apenas um Estado com valores repetidos.*\n",
        "\n",
        "\n",
        "\n"
      ],
      "metadata": {
        "id": "QkysEGomwxOJ"
      }
    },
    {
      "cell_type": "code",
      "source": [
        "estados = ['SP', 'ES', 'MG', 'MG', 'SP', 'MG', 'ES', 'ES', 'ES', 'SP', 'SP', 'MG', 'ES', 'SP', 'RJ', 'MG', 'RJ', 'SP', 'MG', 'SP', 'ES', 'SP', 'MG']\n",
        "\n",
        "lista = [[estado] for estado in estados]\n",
        "\n",
        "dicionario = {lista[i][0]: lista.count(lista[i]) for i in range(len(lista))}\n",
        "print(dicionario)"
      ],
      "metadata": {
        "colab": {
          "base_uri": "https://localhost:8080/"
        },
        "id": "2WiFt4TWw5tZ",
        "outputId": "bf309af4-f059-4ee8-c98c-8a596dddcaf3"
      },
      "execution_count": null,
      "outputs": [
        {
          "output_type": "stream",
          "name": "stdout",
          "text": [
            "{'SP': 8, 'ES': 6, 'MG': 7, 'RJ': 2}\n"
          ]
        }
      ]
    },
    {
      "cell_type": "markdown",
      "source": [
        "10. Nessa mesma tabela de cadastro de filiais, há uma coluna com as informações da quantidade de pessoas colaboradoras e o(a) gestor(a) gostaria de ter um agrupamento da soma dessas pessoas para cada estado. As informações contidas na tabela são:\n",
        "\n",
        "```\n",
        "funcionarios = [('SP', 16), ('ES', 8), ('MG', 9), ('MG', 6), ('SP', 10), ('MG', 4), ('ES',9), ('ES', 7), ('ES', 12), ('SP', 7), ('SP', 11), ('MG',8), ('ES',8), ('SP',9), ('RJ', 13), ('MG', 5), ('RJ', 9), ('SP', 12), ('MG', 10), ('SP', 7), ('ES', 14), ('SP', 10), ('MG', 12)]\n",
        "```\n",
        "\n",
        "A partir da lista de tuplas, crie um dicionário em que as chaves são os nomes dos Estados únicos e os valores são as listas com o número de colaboradores(as) referentes ao Estado. Crie também um dicionário em que as chaves são os nomes dos Estados e os valores são a soma de colaboradores(as) por Estado.\n",
        "\n",
        "> *Dica: Você pode fazer um passo intermediário para gerar uma lista de listas em que cada uma das listas possui apenas os valores numéricos de funcionários(as) de cada Estado.*"
      ],
      "metadata": {
        "id": "VZatL9ZLw_e5"
      }
    },
    {
      "cell_type": "code",
      "source": [
        "funcionarios = [('SP', 16), ('ES', 8), ('MG', 9), ('MG', 6), ('SP', 10), ('MG', 4), ('ES',9), ('ES', 7), ('ES', 12), ('SP', 7), ('SP', 11), ('MG',8), ('ES',8), ('SP',9), ('RJ', 13), ('MG', 5), ('RJ', 9), ('SP', 12), ('MG', 10), ('SP', 7), ('ES', 14), ('SP', 10), ('MG', 12)]\n",
        "\n",
        "lista_estado = list(set([estado[0] for estado in funcionarios]))\n",
        "lista_funcionarios = []\n",
        "\n",
        "for estado in lista_estado:\n",
        "  funcionarios_estado = [funcionario[1] for funcionario in funcionarios if funcionario[0] == estado]\n",
        "  lista_funcionarios.append(funcionarios_estado)\n",
        "\n",
        "lista_agrupada = {lista_estado[i]: lista_funcionarios[i] for i in range(len(lista_estado))}\n",
        "lista_soma = {lista_estado[i]: sum(lista_funcionarios[i]) for i in range(len(lista_estado))}\n",
        "\n",
        "print(f'A lista de estados:{lista_estado}')\n",
        "print(f'A lista de funcionários:{lista_funcionarios}')\n",
        "print(f'A lista de estados agrupados com o grupo de funcionários:{lista_agrupada}')\n",
        "print(f'A lista de estados com o grupo de funcionários somada:{lista_soma}')\n",
        "\n",
        "\n",
        "\n",
        "\n"
      ],
      "metadata": {
        "colab": {
          "base_uri": "https://localhost:8080/"
        },
        "id": "_zQyxRX5xJZx",
        "outputId": "0f94c7d2-7306-4fb9-eb9c-00752f644fec"
      },
      "execution_count": null,
      "outputs": [
        {
          "output_type": "stream",
          "name": "stdout",
          "text": [
            "A lista de estados:['MG', 'ES', 'SP', 'RJ']\n",
            "A lista de funcionários:[[9, 6, 4, 8, 5, 10, 12], [8, 9, 7, 12, 8, 14], [16, 10, 7, 11, 9, 12, 7, 10], [13, 9]]\n",
            "A lista de estados agrupados com o grupo de funcionários:{'MG': [9, 6, 4, 8, 5, 10, 12], 'ES': [8, 9, 7, 12, 8, 14], 'SP': [16, 10, 7, 11, 9, 12, 7, 10], 'RJ': [13, 9]}\n",
            "A lista de estados com o grupo de funcionários somada:{'MG': 54, 'ES': 58, 'SP': 82, 'RJ': 22}\n"
          ]
        }
      ]
    },
    {
      "cell_type": "markdown",
      "source": [
        "# Lidando com exceções"
      ],
      "metadata": {
        "id": "iqiq5hwqn4tw"
      }
    },
    {
      "cell_type": "markdown",
      "source": [
        "1. Faça um programa que solicite à pessoa usuária digitar dois números float e calcular a divisão entre esses números. O código deve conter um tratamento de erro, indicando o tipo de erro que foi gerado caso a divisão não seja possível de realizar.\n",
        "\n",
        "Teste o programa com o segundo valor numérico do input igual a 0. Também teste utilizando caracteres textuais no input para checar os tipos de erro que ocorrem."
      ],
      "metadata": {
        "id": "qMVcXC1zn-ow"
      }
    },
    {
      "cell_type": "code",
      "source": [
        "try:\n",
        "  num1 = float(input('Digite um número: '))\n",
        "  num2 = float(input('Digite outro número: '))\n",
        "  print(num1 / num2)\n",
        "except Exception as e:\n",
        "  print(type(e), f'Erro: {e}')\n"
      ],
      "metadata": {
        "id": "Lm-qhvGwoE8B",
        "colab": {
          "base_uri": "https://localhost:8080/"
        },
        "outputId": "91dcc806-9050-469c-84ea-8140a83076a3"
      },
      "execution_count": 28,
      "outputs": [
        {
          "output_type": "stream",
          "name": "stdout",
          "text": [
            "Digite um número: 3\n",
            "Digite outro número: 0\n",
            "<class 'ZeroDivisionError'> Erro: float division by zero\n"
          ]
        }
      ]
    },
    {
      "cell_type": "markdown",
      "source": [
        "2. Faça um programa que solicite à pessoa usuária digitar um texto que será uma chave a ser pesquisada no seguinte dicionário: idades = {'Júlia': 16, 'Carol': 23, 'Alberto': 19, 'Roberta': 17}, armazenando o resultado do valor em uma variável. O código deve conter um tratamento de erro KeyError, imprimindo a informação 'Nome não encontrado', caso ocorra o erro; e imprimir o valor caso não ocorra nenhum.\n",
        "\n",
        "Teste o programa com um nome presente em uma das chaves do dicionário e com um que não esteja no dicionário para verificar a mensagem de erro."
      ],
      "metadata": {
        "id": "moEiLulvoFbS"
      }
    },
    {
      "cell_type": "code",
      "source": [
        "idades = {'Julia': 16, 'Carol': 23, 'Alberto': 19, 'Roberta': 17}\n",
        "\n",
        "try:\n",
        "    chave = input()\n",
        "    valor = idades[chave]\n",
        "except KeyError:\n",
        "    print('Nome não encontrado')\n",
        "else:\n",
        "    print(valor)\n",
        "\n",
        "\n",
        "\n"
      ],
      "metadata": {
        "id": "V9JHXceQoKU_",
        "colab": {
          "base_uri": "https://localhost:8080/"
        },
        "outputId": "4b5e9064-c679-43cc-bf0f-451062e3e631"
      },
      "execution_count": 68,
      "outputs": [
        {
          "output_type": "stream",
          "name": "stdout",
          "text": [
            "amanda\n",
            "Nome não encontrado\n"
          ]
        }
      ]
    },
    {
      "cell_type": "markdown",
      "source": [
        "3. Crie uma função que recebe uma lista como parâmetro e converta todos os valores da lista para float. A função deve conter um tratamento de erro indicando o tipo de erro gerado e retornar a lista caso não tenha ocorrido nenhum erro. Por fim, deve ter a cláusula finally para imprimir o texto: 'Fim da execução da função'."
      ],
      "metadata": {
        "id": "O4RG5NwVoK0w"
      }
    },
    {
      "cell_type": "code",
      "source": [
        "lista = []\n",
        "\n",
        "def converte_lista(lista):\n",
        "  try:\n",
        "    for i in range(5):\n",
        "      lista.append(float(input(f'Digite o {i+1}º valor: ')))\n",
        "    return lista\n",
        "  except Exception as e:\n",
        "    print(type(e), f'Erro: {e}')\n",
        "  finally:\n",
        "    print('Fim da execução da função')\n",
        "\n",
        "converte_lista(lista)"
      ],
      "metadata": {
        "id": "ZRDoEHAkoOCg",
        "colab": {
          "base_uri": "https://localhost:8080/"
        },
        "outputId": "cecfd330-aa7b-4613-8904-4060a2f05845"
      },
      "execution_count": 80,
      "outputs": [
        {
          "output_type": "stream",
          "name": "stdout",
          "text": [
            "Digite o 1º valor: 4\n",
            "Digite o 2º valor: 3\n",
            "Digite o 3º valor: 6\n",
            "Digite o 4º valor: 5\n",
            "Digite o 5º valor: 4\n",
            "Fim da execução da função\n"
          ]
        },
        {
          "output_type": "execute_result",
          "data": {
            "text/plain": [
              "[4.0, 3.0, 6.0, 5.0, 4.0]"
            ]
          },
          "metadata": {},
          "execution_count": 80
        }
      ]
    },
    {
      "cell_type": "markdown",
      "source": [
        "4. Crie uma função que recebe duas listas como parâmetros e agrupe os elementos um a um das listas, formando uma lista de tuplas de 3 elementos, no qual o primeiro e segundo elemento da tupla são os valores na posição i das listas e o terceiro elemento é a soma dos valores na posição i das listas.\n",
        "\n",
        "A função deve conter um tratamento de erro indicando o tipo de erro gerado e retornar como resultado a lista de tuplas. Caso as listas enviadas como parâmetro tenham tamanhos diferentes, a função deve retornar um IndexError com a frase: 'A quantidade de elementos em cada lista é diferente.' Dados para testar a função:\n",
        "\n",
        "* Valores sem erro:\n",
        "\n",
        "```\n",
        "lista1 = [4,6,7,9,10]\n",
        "lista2 = [-4,6,8,7,9]\n",
        "```\n",
        "* Listas com tamanhos diferentes:\n",
        "\n",
        "\n",
        "```\n",
        "lista1 = [4,6,7,9,10,4]\n",
        "lista2 = [-4,6,8,7,9]\n",
        "```\n",
        "* Listas com valores incoerentes:\n",
        "\n",
        "\n",
        "```\n",
        "lista1 = [4,6,7,9,'A']\n",
        "lista2 = [-4,'E',8,7,9]\n",
        "```\n",
        "\n"
      ],
      "metadata": {
        "id": "n6ND4x6CoOhH"
      }
    },
    {
      "cell_type": "code",
      "source": [
        "lista1 = [4,6,7,9,10]\n",
        "lista2 = [-4,6,8,7,5]\n",
        "\n",
        "def lista_tuplas(lista1, lista2):\n",
        "  lista_tuplas = []\n",
        "  try:\n",
        "    if len(lista1) == len(lista2):\n",
        "      for i in range(len(lista1)):\n",
        "        lista_tuplas.append((lista1[i], lista2[i], lista1[i] + lista2[i]))\n",
        "\n",
        "      return lista_tuplas\n",
        "    else:\n",
        "      raise IndexError('A quantidade de elementos em cada lista é diferente.')\n",
        "  except Exception as e:\n",
        "    print(type(e), f'Erro: {e}')\n",
        "\n",
        "lista_tuplas(lista1, lista2)"
      ],
      "metadata": {
        "id": "S_A0qU2_ok0A",
        "colab": {
          "base_uri": "https://localhost:8080/"
        },
        "outputId": "750afd06-80ab-411b-d6bd-71ee448e80d6"
      },
      "execution_count": 87,
      "outputs": [
        {
          "output_type": "execute_result",
          "data": {
            "text/plain": [
              "[(4, -4, 0), (6, 6, 12), (7, 8, 15), (9, 7, 16), (10, 5, 15)]"
            ]
          },
          "metadata": {},
          "execution_count": 87
        }
      ]
    },
    {
      "cell_type": "markdown",
      "source": [
        "5. Como desafio, você recebeu a tarefa de desenvolver um código que contabiliza as pontuações de estudantes de uma instituição de ensino de acordo com suas respostas num teste. Este código deve ser testado para um exemplo de 3 estudantes com uma lista de listas em que cada lista possui as respostas de 5 questões objetivas de cada estudante. Cada questão vale um ponto e as alternativas possíveis são A, B, C ou D.\n",
        "\n",
        "Caso alguma alternativa em um dos testes não esteja entre as alternativas possíveis, você deve lançar um ValueError com a mensagem \"A alternativa [alternativa] não é uma opção de alternativa válida\". O cálculo das 3 notas só será realizado mediante as entradas com as alternativas A, B, C ou D em todos os testes. Se não for lançada a exceção, será exibida uma lista com as notas em cada teste.\n",
        "\n",
        "Os dados para o teste do código são:\n",
        "\n",
        "* Gabarito da prova:\n",
        "\n",
        "\n",
        "```\n",
        "gabarito = ['D', 'A', 'B', 'C', 'A']\n",
        "```\n",
        "Abaixo temos 2 listas de listas que você pode usar como teste\n",
        "\n",
        "* Notas sem exceção:\n",
        "\n",
        "\n",
        "\n",
        "```\n",
        "testes_sem_ex = [['D', 'A', 'B', 'C', 'A'], ['C', 'A', 'A', 'C', 'A'], ['D', 'B', 'A', 'C', 'A']]\n",
        "```\n",
        "\n",
        "* Notas com exceção:\n",
        "\n",
        "\n",
        "```\n",
        "testes_com_ex = [['D', 'A', 'B', 'C', 'A'], ['C', 'A', 'A', 'E', 'A'], ['D', 'B', 'A', 'C', 'A']]\n",
        "```\n",
        "> *Dica: Para verificar se uma entrada da lista não está entre as alternativas possíveis, use a estrutura lista[i] not in ['A','B','C','D']. Por exemplo, 1 not in [2,3,4]... Saída: True.*\n",
        "\n"
      ],
      "metadata": {
        "id": "imDtJ0ouotE5"
      }
    },
    {
      "cell_type": "code",
      "source": [
        "gabarito = ['D', 'A', 'B', 'C', 'A']\n",
        "testes_sem_ex = [['D', 'A', 'B', 'C', 'A'], ['C', 'A', 'A', 'C', 'A'], ['D', 'B', 'A', 'C', 'A']]\n",
        "testes_com_ex = [['D', 'A', 'B', 'C', 'A'], ['C', 'A', 'A', 'E', 'A'], ['D', 'B', 'A', 'C', 'A']]\n",
        "\n",
        "def calcula_notas(gabarito, testes):\n",
        "  resultados = []\n",
        "  try:\n",
        "    for teste in testes:\n",
        "      nota = 0\n",
        "      for i in range(len(teste)):\n",
        "        if teste[i] not in gabarito:\n",
        "          raise ValueError(f'A alternativa {teste[i]} não é uma opção de alternativa válida')\n",
        "        elif teste[i] == gabarito[i]:\n",
        "          nota += 1\n",
        "      resultados.append(nota)\n",
        "\n",
        "  except Exception as e:\n",
        "    print(type(e), f'Erro: {e}')\n",
        "  else:\n",
        "    return resultados\n",
        "\n",
        "calcula_notas(gabarito, testes_sem_ex)\n",
        "\n"
      ],
      "metadata": {
        "id": "B6SgB9eApJCf",
        "colab": {
          "base_uri": "https://localhost:8080/"
        },
        "outputId": "5e74c306-208f-4e0d-98c2-6b8d3cdc7c5b"
      },
      "execution_count": 105,
      "outputs": [
        {
          "output_type": "execute_result",
          "data": {
            "text/plain": [
              "[5, 3, 3]"
            ]
          },
          "metadata": {},
          "execution_count": 105
        }
      ]
    },
    {
      "cell_type": "markdown",
      "source": [
        "6. Você está trabalhando com processamento de linguagem natural (NLP) e, dessa vez, sua líder requisitou que você criasse um trecho de código que recebe uma lista com as palavras separadas de uma frase gerada pelo ChatGPT.\n",
        "\n",
        "Você precisa criar uma função que avalia cada palavra desse texto e verificar se o tratamento para retirar os símbolos de pontuação (',' '.', '!' e '?') foi realizado. Caso contrário, será lançada uma exceção do tipo ValueError apontando o 1º caso em que foi detectado o uso de uma pontuação por meio da frase \"O texto apresenta pontuações na palavra \"[palavra]\".\". Essa demanda é voltada para a análise do padrão de frases geradas pela inteligência artificial.\n",
        "\n",
        "> *Dica: Para verificar se uma ou mais das pontuações estão presentes em cada palavra, utilize a palavra chave or na condição if. Por exemplo, 'a' in 'alura' or 'b' in 'alura'… Saída: True*\n",
        "\n",
        "Os dados para o teste do código são:\n",
        "\n",
        "* Lista tratada:\n",
        "\n",
        "\n",
        "```\n",
        "lista_tratada = ['Python', 'é', 'uma', 'linguagem', 'de', 'programação', 'poderosa', 'versátil',\n",
        "                  'e', 'fácil', 'de', 'aprender', 'utilizada', 'em', 'diversos', 'campos', 'desde',\n",
        "                  'análise', 'de', 'dados', 'até', 'inteligência', 'artificial']\n",
        "```\n",
        "\n",
        "* Lista não tratada:\n",
        "\n",
        "\n",
        "\n",
        "```\n",
        "lista_nao_tratada = ['Python', 'é', 'uma', 'linguagem', 'de', 'programação', 'poderosa,', 'versátil',\n",
        "                  'e', 'fácil,', 'de', 'aprender', 'utilizada', 'em', 'diversos', 'campos,', 'desde',\n",
        "                  'análise', 'de', 'dados', 'até', 'inteligência', 'artificial!']\n",
        "```\n",
        "\n"
      ],
      "metadata": {
        "id": "utvCJDjKpJcY"
      }
    },
    {
      "cell_type": "code",
      "source": [
        "lista_tratada = ['Python', 'é', 'uma', 'linguagem', 'de', 'programação', 'poderosa', 'versátil',\n",
        "                  'e', 'fácil', 'de', 'aprender', 'utilizada', 'em', 'diversos', 'campos', 'desde',\n",
        "                  'análise', 'de', 'dados', 'até', 'inteligência', 'artificial']\n",
        "\n",
        "lista_nao_tratada = ['Python', 'é', 'uma', 'linguagem', 'de', 'programação', 'poderosa,', 'versátil',\n",
        "                  'e', 'fácil,', 'de', 'aprender', 'utilizada', 'em', 'diversos', 'campos,', 'desde',\n",
        "                  'análise', 'de', 'dados', 'até', 'inteligência', 'artificial!']\n",
        "\n",
        "def verifica_pontuacao(lista):\n",
        "  try:\n",
        "    for palavra in lista:\n",
        "      if ',' in palavra or '.' in palavra or '!' in palavra or '?' in palavra:\n",
        "        raise ValueError(f'O texto apresenta pontuações na palavra \"{palavra}\".')\n",
        "\n",
        "  except Exception as e:\n",
        "    print(type(e), f'Erro: {e}')\n",
        "  else:\n",
        "    return print('A lista está tratada.')\n",
        "\n",
        "verifica_pontuacao(lista_tratada)"
      ],
      "metadata": {
        "id": "mycrduvZpf3f",
        "colab": {
          "base_uri": "https://localhost:8080/"
        },
        "outputId": "3928b23d-1222-43e8-a4cc-919fafb69e4a"
      },
      "execution_count": 114,
      "outputs": [
        {
          "output_type": "stream",
          "name": "stdout",
          "text": [
            "A lista está tratada.\n"
          ]
        }
      ]
    },
    {
      "cell_type": "markdown",
      "source": [
        "7. Você foi contratado(a) como uma pessoa cientista de dados para auxiliar um laboratório que faz experimentos sobre o comportamento de uma cultura de fungos. O laboratório precisa avaliar constantemente a razão (divisão) entre os dados de pressão e temperatura do ambiente controlado recolhidos durante a experimentação para definir a melhor condição para os testes.\n",
        "\n",
        "Para cumprir com a demanda, você precisa criar uma função divide_colunas que recebe os dados das colunas de pressão e temperatura (que vem no formato de listas) e gerar uma nova coluna com o resultado da divisão. Os parâmetros da função são as duas listas e você deve tratar dentro dela ao menos 2 tipos de exceções:\n",
        "\n",
        "* Verificar se as listas têm o mesmo tamanho (ValueError)\n",
        "* Verificar se existe alguma divisão por zero (ZeroDivisionError)\n",
        "\n",
        "Para testar a função, vamos realizar a divisão entre duas listas de dados coletados no experimento, com os valores de pressão e temperatura do ambiente controlado.\n",
        "\n",
        "Como teste, use os seguintes dados:\n",
        "\n",
        "* Dados sem exceção:\n",
        "\n",
        "\n",
        "```\n",
        "pressoes = [100, 120, 140, 160, 180]\n",
        "temperaturas = [20, 25, 30, 35, 40]\n",
        "```\n",
        "* Dados com exceção:\n",
        "\n",
        "1 - Exceção de ZeroDivisionError\n",
        "```\n",
        "pressoes = [60, 120, 140, 160, 180]\n",
        "temperaturas = [0, 25, 30, 35, 40]\n",
        "```\n",
        "2 - Exceção de ValueError\n",
        "```\n",
        "pressoes = [100, 120, 140, 160]\n",
        "temperaturas = [20, 25, 30, 35, 40]\n",
        "```\n",
        "> *Dica: Você pode usar zip() para parear os dados da lista_1 com a lista_2. Crie uma estrutura try-except que caso uma das exceções sejam lançadas, podemos ver o tipo de erro na saída.*\n"
      ],
      "metadata": {
        "id": "L1RZJQkIpj-v"
      }
    },
    {
      "cell_type": "code",
      "source": [
        "def divide_colunas(lista_1: list, lista_2: list) -> list:\n",
        "  try:\n",
        "    if len(lista_1) != len(lista_2):\n",
        "      raise ValueError(\"As listas precisam ter o mesmo tamanho\")\n",
        "\n",
        "    resultado = [round(a / b, 2) for a, b in zip(lista_1, lista_2)]\n",
        "  except ValueError as e:\n",
        "    print(e)\n",
        "  except ZeroDivisionError as e:\n",
        "    print(f\"{e}: A 2ª lista não pode possuir um valor igual a 0\")\n",
        "  else:\n",
        "    return resultado\n",
        "\n",
        "pressoes = [60, 120, 140, 160, 180]\n",
        "temperaturas = [0, 25, 30, 35, 40]\n",
        "\n",
        "divide_colunas(pressoes, temperaturas)"
      ],
      "metadata": {
        "colab": {
          "base_uri": "https://localhost:8080/"
        },
        "id": "rQgsl1Z0Qz4r",
        "outputId": "482d535b-a838-4510-824b-24e975cfcd8c"
      },
      "execution_count": 136,
      "outputs": [
        {
          "output_type": "stream",
          "name": "stdout",
          "text": [
            "division by zero: A 2ª lista não pode possuir um valor igual a 0\n"
          ]
        }
      ]
    }
  ]
}